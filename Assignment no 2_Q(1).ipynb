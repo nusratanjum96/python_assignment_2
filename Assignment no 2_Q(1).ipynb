{
 "cells": [
  {
   "cell_type": "code",
   "execution_count": 1,
   "metadata": {},
   "outputs": [
    {
     "name": "stdout",
     "output_type": "stream",
     "text": [
      "enter eng marks:99\n",
      "enter urdu marks:56\n",
      "enter chem marks:57\n",
      "enter bio marks:90\n",
      "enter phy marks:77\n",
      "total marks:379 out of 500\n",
      "avg 75.8\n",
      "Grade: C\n"
     ]
    }
   ],
   "source": [
    "#assignment no 1\n",
    "eng_marks=  int(input(\"enter eng marks:\"))\n",
    "urdu_marks= int(input(\"enter urdu marks:\"))\n",
    "chem_marks= int(input(\"enter chem marks:\"))\n",
    "bio_marks=  int(input(\"enter bio marks:\"))\n",
    "phy_marks=  int(input(\"enter phy marks:\"))\n",
    "                \n",
    "total_marks= eng_marks + urdu_marks + chem_marks + bio_marks + phy_marks\n",
    "print(\"total marks:\" + str(total_marks) + \" \"+ \"out of 500\")\n",
    "\n",
    "avg=(eng_marks+urdu_marks+chem_marks+bio_marks+phy_marks)/5\n",
    "print(\"avg\" + \" \" + str(avg))\n",
    "if avg > 90:\n",
    " print(\"Grade: A\")\n",
    "elif(avg>= 80 and avg<90):\n",
    "    print(\"Grade: B\")\n",
    "elif(avg>= 70 and avg<80):\n",
    "    print(\"Grade: C\")\n",
    "elif(avg>= 60 and avg<70):\n",
    "    print(\"Grade: D\")\n",
    "else:\n",
    "    print(\"Grade: F\")"
   ]
  },
  {
   "cell_type": "markdown",
   "metadata": {},
   "source": [
    "\n"
   ]
  },
  {
   "cell_type": "code",
   "execution_count": null,
   "metadata": {},
   "outputs": [],
   "source": []
  },
  {
   "cell_type": "code",
   "execution_count": null,
   "metadata": {},
   "outputs": [],
   "source": []
  }
 ],
 "metadata": {
  "kernelspec": {
   "display_name": "Python 3",
   "language": "python",
   "name": "python3"
  },
  "language_info": {
   "codemirror_mode": {
    "name": "ipython",
    "version": 3
   },
   "file_extension": ".py",
   "mimetype": "text/x-python",
   "name": "python",
   "nbconvert_exporter": "python",
   "pygments_lexer": "ipython3",
   "version": "3.7.4"
  }
 },
 "nbformat": 4,
 "nbformat_minor": 2
}
